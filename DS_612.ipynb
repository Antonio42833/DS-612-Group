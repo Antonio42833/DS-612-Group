{
 "cells": [
  {
   "cell_type": "markdown",
   "id": "3e9726a3-358e-4279-851e-fcb42c4dbf7d",
   "metadata": {},
   "source": [
    "# Gmo Food Classification"
   ]
  },
  {
   "cell_type": "code",
   "execution_count": null,
   "id": "45187636-05c1-49e7-8979-2acbfd5605cc",
   "metadata": {},
   "outputs": [],
   "source": [
    "# import the libraries we will be using\n",
    "import pandas as pd\n",
    "import matplotlib.pyplot as plt\n",
    "import seaborn as sns\n",
    "from sklearn.linear_model import LinearRegression\n",
    "from sklearn.model_selection import train_test_split\n",
    "from sklearn.linear_model import LogisticRegression\n",
    "from sklearn.preprocessing import StandardScaler\n",
    "from sklearn.metrics import classification_report, confusion_matrix\n",
    "from sklearn.pipeline import Pipeline"
   ]
  },
  {
   "cell_type": "code",
   "execution_count": null,
   "id": "6edcf897-3f23-4d43-b72a-ff77b5bc2150",
   "metadata": {},
   "outputs": [],
   "source": [
    "# Combine the csv's into one large data frame called \"df\"\n",
    "\n",
    "df1 = pd.read_csv('FOOD-DATA-GROUP1.csv')\n",
    "df2 = pd.read_csv('FOOD-DATA-GROUP2.csv')\n",
    "df3 = pd.read_csv('FOOD-DATA-GROUP3.csv')\n",
    "df4 = pd.read_csv('FOOD-DATA-GROUP4.csv')\n",
    "df5 = pd.read_csv('FOOD-DATA-GROUP5.csv')\n",
    "\n",
    "df = pd.concat([df1, df2, df3 ,df4 ,df5],ignore_index=True)\n",
    "df"
   ]
  },
  {
   "cell_type": "code",
   "execution_count": null,
   "id": "3bcba6a0-9b23-447a-8aab-6962caabf620",
   "metadata": {},
   "outputs": [],
   "source": [
    "# Drop the first two rows, they are useless and redundant\n",
    "df = df.iloc[:, 2:]\n",
    "df"
   ]
  },
  {
   "cell_type": "code",
   "execution_count": null,
   "id": "b171c520-e25e-4870-a06d-e0775ac1e866",
   "metadata": {},
   "outputs": [],
   "source": [
    "# Make sure we don't have missing values\n",
    "df.isnull().sum()"
   ]
  },
  {
   "cell_type": "code",
   "execution_count": null,
   "id": "029fec64-f8a8-47d6-b841-9dba0f59ccc1",
   "metadata": {},
   "outputs": [],
   "source": [
    "# Make 4 Quartiles, evenly distribute all rows, label and grade them A,B,C, D\n",
    "df['Grade'] = pd.qcut(df['Nutrition Density'], q=4, labels=['D', 'C', 'B', 'A']) \n",
    "# I learned that these need to be reversed because the lowest score is assighned first. \n",
    "# We don't want to set thresh holds ourselves becaue the scale is not used to control the public but to only give a quicker \n",
    "# and easier way to compare that certain food will all other foods on the market.\n",
    "df.head(20)"
   ]
  },
  {
   "cell_type": "code",
   "execution_count": null,
   "id": "2aa93143-3024-43f3-94a6-b5d35703e46f",
   "metadata": {},
   "outputs": [],
   "source": [
    "df['Grade'].value_counts()\n",
    "# Ensure a even distribution"
   ]
  },
  {
   "cell_type": "code",
   "execution_count": null,
   "id": "c1460401-402f-4c95-a3f9-2c916ee77ca2",
   "metadata": {},
   "outputs": [],
   "source": [
    "# Drop not needed columns\n",
    "X = df.drop(columns=['food', 'Grade'])\n",
    "y = df['Grade']\n",
    "\n",
    "# Split into training and test sets \n",
    "# Use stratify to ensures grade balance in our testing model\n",
    "X_train, X_test, y_train, y_test = train_test_split(X, y, test_size=0.2, stratify=y, random_state=42)\n",
    "\n",
    "# Create a pipeline with scaling and logistic regression\n",
    "pipeline = Pipeline([\n",
    "    ('scaler', StandardScaler()),\n",
    "    ('log_reg', LogisticRegression(max_iter=1000, multi_class='multinomial', solver='lbfgs'))\n",
    "])\n",
    "\n",
    "# Fit the model\n",
    "pipeline.fit(X_train, y_train)\n",
    "\n",
    "# Predict on test set\n",
    "y_pred = pipeline.predict(X_test)\n",
    "\n",
    "# Evaluate it\n",
    "conf_matrix = confusion_matrix(y_test, y_pred)\n",
    "class_report = classification_report(y_test, y_pred, output_dict=False)\n",
    "\n",
    "conf_matrix, class_report\n"
   ]
  },
  {
   "cell_type": "code",
   "execution_count": null,
   "id": "af338994-3277-4044-8221-ab63bb7ff492",
   "metadata": {},
   "outputs": [],
   "source": [
    "correlation = df.select_dtypes(include='number').corr()\n",
    "plt.figure(figsize=(14, 10))\n",
    "sns.heatmap(correlation[['Nutrition Density']].sort_values(by='Nutrition Density', ascending=False), annot=True, cmap='coolwarm')\n",
    "plt.title('Correlation with Nutrition Density')\n",
    "plt.show()"
   ]
  },
  {
   "cell_type": "markdown",
   "id": "53296af9-7c54-44ee-b2c3-a016d06b61db",
   "metadata": {},
   "source": [
    "###\n",
    "###"
   ]
  },
  {
   "cell_type": "code",
   "execution_count": null,
   "id": "8a068138-6753-477c-83a3-d39101fcd3c5",
   "metadata": {},
   "outputs": [],
   "source": [
    "# Make a copy of the full database.\n",
    "df_R = df.copy()\n",
    "df_R"
   ]
  },
  {
   "cell_type": "code",
   "execution_count": null,
   "id": "433c1b8f-2323-4b8d-bc24-b1d608a584da",
   "metadata": {},
   "outputs": [],
   "source": [
    "# Drop not needed columns\n",
    "df_R.drop(columns=['food'], inplace = True)"
   ]
  },
  {
   "cell_type": "code",
   "execution_count": null,
   "id": "560da7ba-f9fd-46dd-b7e5-ddd1a97935ed",
   "metadata": {},
   "outputs": [],
   "source": [
    "df_R.shape\n",
    "# Subtract 2 because they a target variable\n",
    "# When setting a minimum required known nutritional indicator it has to be less than 33 \n",
    "#because that is all that is needed to find the nutritional density score and that would be easily classifyable in the scale.  \n",
    "# We must also choose a minimum number that makes sence but I don't know how to find that number so we are going to set it at 10."
   ]
  },
  {
   "cell_type": "code",
   "execution_count": null,
   "id": "2427bac5-66f4-4149-ba82-6bc444a2fafa",
   "metadata": {},
   "outputs": [],
   "source": [
    "columns_to_drop = np.random.choice(df_R.columns, size = 23, replace = False)"
   ]
  },
  {
   "cell_type": "code",
   "execution_count": null,
   "id": "7e84ebde-d343-4148-b607-4c2f937ba5a2",
   "metadata": {},
   "outputs": [],
   "source": [
    "df_random_drop = df_R.drop(columns = columns_to_drop)"
   ]
  },
  {
   "cell_type": "code",
   "execution_count": null,
   "id": "0a3455e8-ccf6-403c-85d3-da24096fc73d",
   "metadata": {},
   "outputs": [],
   "source": []
  }
 ],
 "metadata": {
  "kernelspec": {
   "display_name": "Python 3 (ipykernel)",
   "language": "python",
   "name": "python3"
  },
  "language_info": {
   "codemirror_mode": {
    "name": "ipython",
    "version": 3
   },
   "file_extension": ".py",
   "mimetype": "text/x-python",
   "name": "python",
   "nbconvert_exporter": "python",
   "pygments_lexer": "ipython3",
   "version": "3.12.7"
  }
 },
 "nbformat": 4,
 "nbformat_minor": 5
}
